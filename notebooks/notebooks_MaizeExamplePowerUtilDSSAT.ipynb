{
  "metadata": {
    "language_info": {
      "codemirror_mode": {
        "name": "python",
        "version": 3
      },
      "file_extension": ".py",
      "mimetype": "text/x-python",
      "name": "python",
      "nbconvert_exporter": "python",
      "pygments_lexer": "ipython3",
      "version": "3.8"
    },
    "kernelspec": {
      "name": "python",
      "display_name": "Python (Pyodide)",
      "language": "python"
    }
  },
  "nbformat_minor": 4,
  "nbformat": 4,
  "cells": [
    {
      "cell_type": "code",
      "source": "import subprocess\nimport numpy as np\n\n# Define SECTIONS dictionary if it is used in the code.\nSECTIONS = {\n    'Crop': 'CR', \n    'Soil': 'SI', \n    'Weather': 'WE', \n    'Management': 'MA'\n}\n\n#create an instance of Maize class\nmaize = Maize('DH02')\n\n#generate input file content\nsections = {}\n# Code to populate the sections dictionary using SECTIONS and maize object.\n\ninput_file_content = f'{maize.NAME} {maize.CODE} {maize.SMODEL}{VERSION}\\n'\nfor section_tag in SECTIONS.values():\n    input_file_content += sections.get(section_tag, '')\n\nwith open('maize.in', 'w') as f:\n    f.write(input_file_content)\n\noutput_dir = \"output\"\ncreate_dir_if_not_exist(output_dir)\n\nsoil = Soil(sand=30, silt=40, clay=30, OC=1.5, BD=1.3, pH=7.0, NO3=30, NH4=5, depth=150)\nweather_data = np.genfromtxt(\"weather.txt\", delimiter=\",\", skip_header=1)\nweather = Weather(latitude=40.0, longitude=-90.0, data=weather_data)\nmanagement = Management(\n    planting_date=\"05/01\", \n    planting_method=\"S\", \n    fertilizer=np.array([[100, 0, 0, 0, 0]]),\n    irrigation=1\n)\n\n# Create DSSAT experiment object\nexperiment_folder = \"/path/to/experiment_folder\"  # Set the path to the experiment folder\nexp = DSSATExperiment(\n    crop=maize, \n    soil=soil, \n    weather=weather, \n    management=management,\n    experiment=DSSATExperiment(experiment_folder, 'CERES', 'Maize'),\n    output_dir=output_dir\n)\n\n# set up experiment\nweather_file = \"weather.wth\"  # Set the path to the weather file\nsoil_file = \"soil.sol\"  # Set the path to the soil file\nmanagement_file = \"management.mgt\"  # Set the path to the management file\nexp.set_weather(weather_file)\nexp.set_soil(soil_file)\nexp.set_management(management_file)\nexp.set_cultivar('Maize', 'CIMMYT-HiDAS')\n\nexp.write_files()\n\n# Run DSSAT simulation using subprocess\nos.chdir(\"C:/DSSAT47\")  # Replace with the actual path to the DSSAT executable directory\nsubprocess.check_call('DSCSM047.EXE B DSSBatch.v47', shell=True)\n\n\n\n",
      "metadata": {},
      "execution_count": null,
      "outputs": []
    }
  ]
}