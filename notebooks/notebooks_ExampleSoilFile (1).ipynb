{
  "metadata": {
    "language_info": {
      "codemirror_mode": {
        "name": "python",
        "version": 3
      },
      "file_extension": ".py",
      "mimetype": "text/x-python",
      "name": "python",
      "nbconvert_exporter": "python",
      "pygments_lexer": "ipython3",
      "version": "3.8"
    },
    "kernelspec": {
      "name": "python",
      "display_name": "Python (Pyodide)",
      "language": "python"
    }
  },
  "nbformat_minor": 4,
  "nbformat": 4,
  "cells": [
    {
      "cell_type": "code",
      "source": "#'BDTICM': bulk density in g/cm3\n#'BLDFIE': soil bulk density at a field capacity moisture level in g/cm3\n#'CECSOL': cation exchange capacity in cmol/kg\n#'CLYPPT': clay percentage in %\n#'ORCDRC': soil organic carbon content in g/kg\n#'PHIHOX': soil pH in H2O\n#'SLTPPT': silt percentage in %\n#'SNDPPT': sand percentage in %\n\n#Kenya soil data\nurl = 'https://files.isric.org/soilgrids/latest/data/recent/kensoilgrids250m.tif'\ndf = pd.read_csv(f'{url}/metadata.csv')\nproperties = ['BDTICM', 'BLDFIE', 'CECSOL', 'CLYPPT', 'ORCDRC', 'PHIHOX', 'SLTPPT', 'SNDPPT']\ndata = pd.read_csv(f'{url}/kensoilgrids250m_mean.csv', usecols=['lon', 'lat'] + properties)\n\n# Write the DSSAT soil file\nwith open('kenya.soil', 'w') as f:\n    f.write('   1 SOIL DESCRIPTION\\n')\n    f.write(f'    1{df.iloc[0][\"location\"]}\\n')\n    f.write(f'    1{df.iloc[0][\"citation\"]}\\n')\n    f.write('    1\\n')\n    f.write(f'    1{df.iloc[0][\"spatial_resolution\"]}\\n')\n    f.write(f'    1{len(data)}\\n')\n    for _, row in data.iterrows():\n        f.write(f'    {row[\"lat\"]:.6f}    {row[\"lon\"]:.6f}\\n')\n        f.write(f'        {row[\"SNDPPT\"]:.1f}       {row[\"SLTPPT\"]:.1f}        {row[\"ORCDRC\"]:.1f}\\n')\n        f.write(f'        {row[\"CECSOL\"]:.1f}        {row[\"PHIHOX\"]:.1f}       {row[\"CLYPPT\"]:.1f}\\n')\n        f.write(f'        {row[\"BDTICM\"]:.2f}       {row[\"BLDFIE\"]:.2f}\\n')\n\n#Save data to .SOL\nwith open('kenya_soil_data.SOL', 'w') as f:\n    for key, value in dssat_soil_data.items():\n        f.write(f'{key} {value}\\n')",
      "metadata": {
        "trusted": true
      },
      "execution_count": null,
      "outputs": []
    },
    {
      "cell_type": "code",
      "source": "",
      "metadata": {},
      "execution_count": null,
      "outputs": []
    },
    {
      "cell_type": "code",
      "source": "",
      "metadata": {},
      "execution_count": null,
      "outputs": []
    }
  ]
}