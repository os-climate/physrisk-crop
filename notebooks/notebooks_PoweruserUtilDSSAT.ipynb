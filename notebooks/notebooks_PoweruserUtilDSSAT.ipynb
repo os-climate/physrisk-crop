{
  "metadata": {
    "language_info": {
      "codemirror_mode": {
        "name": "python",
        "version": 3
      },
      "file_extension": ".py",
      "mimetype": "text/x-python",
      "name": "python",
      "nbconvert_exporter": "python",
      "pygments_lexer": "ipython3",
      "version": "3.8"
    },
    "kernelspec": {
      "name": "python",
      "display_name": "Python (Pyodide)",
      "language": "python"
    }
  },
  "nbformat_minor": 4,
  "nbformat": 4,
  "cells": [
    {
      "cell_type": "code",
      "source": "import sys\nimport subprocess\nimport pandas as pd\nimport numpy as np\nimport datetime\n\ndef run_dssat(dssat_executable, mode, batch_file):\n    try:\n        # Step 2: Set up the working directory (optional)\n        # os.chdir('C:\\DSSAT47')  # Change to the directory where DSCSM047.EXE and DSSBatch.v47 are located\n\n        # Step 4: Run the DSSAT CSM using subprocess\n        command = f'{dssat_executable} {mode} {batch_file}'\n        subprocess.check_call(command, shell=True)\n\n        # Step 5: Optional - Collect pertinent data from output files\n        # Process output files here if needed\n\n    except subprocess.CalledProcessError as e:\n        print(f\"Error executing DSSAT: {e}\")\n        sys.exit(1)\n\nif __name__ == \"__main__\":\n    if len(sys.argv) != 4:\n        print(\"Usage: python run_dssat.py <DSSAT_EXECUTABLE> <MODE> <BATCH_FILE>\")\n        sys.exit(1)\n\n    dssat_executable = sys.argv[1]\n    mode = sys.argv[2]\n    batch_file = sys.argv[3]\n\n    # code to generate weather, soil, and management files\n    weather = pd.DataFrame({\n        'date': pd.date_range('2021-01-01', '2021-12-31'),\n        'max_temp': np.random.normal(30, 5, 365),\n        'min_temp': np.random.normal(20, 5, 365),\n        'rainfall': np.random.normal(100, 50, 365),\n        'solar_rad': np.random.normal(20, 5, 365)\n    })\n\n    soil = pd.DataFrame({\n        'layer_depth': [0.1, 0.2, 0.3, 0.4, 0.5],\n        'bd': [1.3, 1.4, 1.5, 1.6, 1.7],\n        'oc': [1.0, 1.1, 1.2, 1.3, 1.4],\n        'ph': [6.0, 6.2, 6.4, 6.6, 6.8],\n        'cec': [10.0, 11.0, 12.0, 13.0, 14.0],\n        'clay': [20, 25, 30, 35, 40],\n        'sand': [30, 35, 40, 45, 50]\n    })\n\n    management = pd.DataFrame({\n        'year': [2021],\n        'jday': [1],\n        'code': ['PLANT'],\n        'cultivar': ['Maize'],\n        'pltnum': [1],\n        'sdate': [datetime.date(2021, 5, 1)],\n        'edate': [datetime.date(2021, 5, 1)],\n        'plant_density': [30000],\n        'row_spacing': [0.75],\n        'fertilizer_n': [120],\n        'fertilizer_p': [60],\n        'fertilizer_k': [60]\n    })\n\n    # Ensure all data frames are not empty\n    if weather.empty or soil.empty or management.empty:\n        print(\"Error: Weather, soil, or management data is empty.\")\n        sys.exit(1)\n\n    # Step 6: Run the DSSAT CSM using the provided data\n    run_dssat(dssat_executable, mode, batch_file)\n\n",
      "metadata": {},
      "execution_count": null,
      "outputs": []
    }
  ]
}