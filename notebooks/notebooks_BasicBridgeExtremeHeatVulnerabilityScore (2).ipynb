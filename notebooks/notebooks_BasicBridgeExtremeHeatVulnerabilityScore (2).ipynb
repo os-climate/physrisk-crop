{
  "metadata": {
    "language_info": {
      "codemirror_mode": {
        "name": "python",
        "version": 3
      },
      "file_extension": ".py",
      "mimetype": "text/x-python",
      "name": "python",
      "nbconvert_exporter": "python",
      "pygments_lexer": "ipython3",
      "version": "3.8"
    },
    "kernelspec": {
      "name": "python",
      "display_name": "Python (Pyodide)",
      "language": "python"
    }
  },
  "nbformat_minor": 4,
  "nbformat": 4,
  "cells": [
    {
      "cell_type": "code",
      "source": "import xarray as xr\nimport geopandas as gpd\nimport numpy as np\n\ndef bridge_vulnerability_temperature(temperature_data, temperature_variable):\n    #Define threshold temperatures\n    temperature_thresholds = {\n        'low': 16.0,   # Below this temperature, minimal stress on the bridge\n        'high': 30.0,  # Above this temperature, increased stress on the bridge\n        'threshold_exponential': 35.0,  # Temperature threshold for exponential vulnerability increase\n    }\n    temperature = temperature_data[temperature_variable]\n\n    #Vulnerability scores\n    if temperature < temperature_thresholds['low']:\n        vulnerability_score = 1.0\n    elif temperature >= temperature_thresholds['low'] and temperature < temperature_thresholds['high']:\n        # Linear interpolation between low and high thresholds\n        vulnerability_score = 1.0 - ((temperature - temperature_thresholds['low']) / (temperature_thresholds['high'] - temperature_thresholds['low']))\n    elif temperature >= temperature_thresholds['high'] and temperature < temperature_thresholds['threshold_exponential']:\n        vulnerability_score = 0.0  # Maximum stress on the bridge\n    else:\n        # Exponential increase in vulnerability score after the exponential threshold\n        vulnerability_score = np.exp(1.0 - (temperature - temperature_thresholds['threshold_exponential']))\n\n    return vulnerability_score\n\ntemperature_variable = '_osc_chronic_heat_prefix()'\ntemperature = climate_data[temperature_variable]\n\nvulnerability_scores = np.zeros_like(temperature)  #Array to store vulnerability scores\n\nfor i in range(temperature.shape[0]):\n    for j in range(temperature.shape[1]):\n        temperature_value = temperature[i, j].item()\n        vulnerability_score = bridge_vulnerability_temperature(temperature_data=temperature_value, temperature_variable=temperature_variable)\n        vulnerability_scores[i, j] = vulnerability_score\n\n#GeoDataFrame for vulnerability scores and coordinates\nlon, lat = climate_data.longitude.values, climate_data.latitude.values\nvulnerability_df = gpd.GeoDataFrame({'vulnerability_score': vulnerability_scores.flatten()}, geometry=gpd.points_from_xy(lon, lat))\n\n#Export vulnerability scores\nvulnerability_df.to_file('bridge_vulnerability.geojson', driver='GeoJSON')\nprint(\"Bridge vulnerability scores exported as GeoJSON.\")\n",
      "metadata": {},
      "execution_count": null,
      "outputs": []
    }
  ]
}