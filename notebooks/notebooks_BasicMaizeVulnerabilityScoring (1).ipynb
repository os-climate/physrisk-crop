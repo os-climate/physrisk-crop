{
  "metadata": {
    "language_info": {
      "codemirror_mode": {
        "name": "python",
        "version": 3
      },
      "file_extension": ".py",
      "mimetype": "text/x-python",
      "name": "python",
      "nbconvert_exporter": "python",
      "pygments_lexer": "ipython3",
      "version": "3.8"
    },
    "kernelspec": {
      "name": "python",
      "display_name": "Python (Pyodide)",
      "language": "python"
    }
  },
  "nbformat_minor": 4,
  "nbformat": 4,
  "cells": [
    {
      "cell_type": "code",
      "source": "import xarray as xr\nimport rasterio\nfrom rasterio.transform import from_origin\nfrom rasterio.features import rasterize\nimport geopandas as gpd\nimport numpy as np\n\ndef bulk_climate_vulnerability_temperature_maize(temperature_data, temperature_variable):\n    #Define the threshold temperature values\n    temperature_thresholds = {\n        'low': 16.0,   # Below this temperature, maize yield is significantly reduced\n        'medium': 25.0,  # Temperature range where maize yield is relatively stable\n        'high': 30.0,  # Above this temperature, maize yield is significantly reduced\n    }\n    temperature = temperature_data[temperature_variable]\n\n    #Vulnerability scoring that generates a \"U\" shaped curve of scores. This isn't necessarily physiologically accurate, but may still be useful.\n    if temperature < temperature_thresholds['low']:\n        vulnerability_score = 1.0\n    elif temperature >= temperature_thresholds['low'] and temperature < temperature_thresholds['medium']:\n        # Calculate score exponentially increasing towards the low threshold\n        diff = temperature_thresholds['medium'] - temperature_thresholds['low']\n        vulnerability_score = 1.0 - np.exp(-(temperature - temperature_thresholds['low']) / (diff / 2))\n    elif temperature >= temperature_thresholds['medium'] and temperature <= temperature_thresholds['high']:\n        # Calculate score exponentially increasing towards the high threshold\n        diff = temperature_thresholds['high'] - temperature_thresholds['medium']\n        vulnerability_score = 1.0 - np.exp(-(temperature_thresholds['high'] - temperature) / (diff / 2))\n    else:\n        vulnerability_score = 1.0\n    return vulnerability_score\n\n#Climate data!\nclimate_data = xr.open_dataset('climate_data.nc')\ntemperature_variable = 'temperature'  # Replace with the actual variable name in the dataset\ntemperature = climate_data[temperature_variable]\noutput_geojson = 'vulnerability_score.geojson'\n\n#Vulnerability raster\nheight, width = temperature.shape\ntransform = from_origin(climate_data.longitude[0], climate_data.latitude[-1], climate_data.longitude[1]-climate_data.longitude[0], climate_data.latitude[0]-climate_data.latitude[1])\nvulnerability_score_raster = rasterize([(i, j) for i in range(width) for j in range(height)], transform=transform, out_shape=(height, width), fill=0, all_touched=False, dtype='float32', default_value=0)\nfor i in range(width):\n    for j in range(height):\n        temperature_value = temperature[j, i].item()\n        vulnerability_score = bulk_climate_vulnerability_temperature_maize(temperature_data=temperature_value, temperature_variable=temperature_variable)\n        vulnerability_score_raster[j, i] = vulnerability_score\nvulnerability_score_df = gpd.GeoDataFrame({'vulnerability_score': vulnerability_score_raster.flatten()}, geometry=gpd.points_from_xy(climate_data.longitude.values, climate_data.latitude.values))\nvulnerability_score_df.to_file(output_geojson, driver='GeoJSON')\nprint(\"Vulnerability score exported as GeoJSON: {}\".format(output_geojson))\n\n#this vulnerability raster can be overlayed with temperature values geospatially, providing basic maize production mapping.\n",
      "metadata": {},
      "execution_count": null,
      "outputs": []
    }
  ]
}