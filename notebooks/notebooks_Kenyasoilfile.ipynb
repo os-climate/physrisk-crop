{
  "metadata": {
    "language_info": {
      "codemirror_mode": {
        "name": "python",
        "version": 3
      },
      "file_extension": ".py",
      "mimetype": "text/x-python",
      "name": "python",
      "nbconvert_exporter": "python",
      "pygments_lexer": "ipython3",
      "version": "3.8"
    },
    "kernelspec": {
      "name": "python",
      "display_name": "Python (Pyodide)",
      "language": "python"
    }
  },
  "nbformat_minor": 4,
  "nbformat": 4,
  "cells": [
    {
      "cell_type": "code",
      "source": "import pandas as pd\nimport pydssat\nimport pydssat.soils\nfrom dssat import *\nfrom dssat.models import *\nfrom dssat.utils import *\n\n#Kenya soil data\nurl = 'https://files.isric.org/soilgrids/latest/data/recent/kensoilgrids250m.tif'\ndf = pd.read_csv(f'{url}/metadata.csv')\nproperties = ['BDTICM', 'BLDFIE', 'CECSOL', 'CLYPPT', 'ORCDRC', 'PHIHOX', 'SLTPPT', 'SNDPPT']\ndata = pd.read_csv(f'{url}/kensoilgrids250m_mean.csv', usecols=['lon', 'lat'] + properties)\n\n# Write the DSSAT soil file\nwith open('kenya.soil', 'w') as f:\n    f.write('   1 SOIL DESCRIPTION\\n')\n    f.write(f'    1{df.iloc[0][\"location\"]}\\n')\n    f.write(f'    1{df.iloc[0][\"citation\"]}\\n')\n    f.write('    1\\n')\n    f.write(f'    1{df.iloc[0][\"spatial_resolution\"]}\\n')\n    f.write(f'    1{len(data)}\\n')\n    for _, row in data.iterrows():\n        f.write(f'    {row[\"lat\"]:.6f}    {row[\"lon\"]:.6f}\\n')\n        f.write(f'        {row[\"SNDPPT\"]:.1f}       {row[\"SLTPPT\"]:.1f}        {row[\"ORCDRC\"]:.1f}\\n')\n        f.write(f'        {row[\"CECSOL\"]:.1f}        {row[\"PHIHOX\"]:.1f}       {row[\"CLYPPT\"]:.1f}\\n')\n        f.write(f'        {row[\"BDTICM\"]:.2f}       {row[\"BLDFIE\"]:.2f}\\n')\n\n#Save data to .SOL\nwith open('kenya_soil_data.SOL', 'w') as f:\n    for key, value in dssat_soil_data.items():\n        f.write(f'{key} {value}\\n')\n\n",
      "metadata": {
        "trusted": true
      },
      "execution_count": 1,
      "outputs": [
        {
          "ename": "<class 'ModuleNotFoundError'>",
          "evalue": "No module named 'pydssat'",
          "traceback": [
            "\u001b[0;31m---------------------------------------------------------------------------\u001b[0m",
            "\u001b[0;31mModuleNotFoundError\u001b[0m                       Traceback (most recent call last)",
            "Cell \u001b[0;32mIn[1], line 2\u001b[0m\n\u001b[1;32m      1\u001b[0m \u001b[38;5;28;01mimport\u001b[39;00m \u001b[38;5;21;01mpandas\u001b[39;00m \u001b[38;5;28;01mas\u001b[39;00m \u001b[38;5;21;01mpd\u001b[39;00m\n\u001b[0;32m----> 2\u001b[0m \u001b[38;5;28;01mimport\u001b[39;00m \u001b[38;5;21;01mpydssat\u001b[39;00m\n\u001b[1;32m      3\u001b[0m \u001b[38;5;28;01mimport\u001b[39;00m \u001b[38;5;21;01mpydssat\u001b[39;00m\u001b[38;5;21;01m.\u001b[39;00m\u001b[38;5;21;01msoils\u001b[39;00m\n\u001b[1;32m      4\u001b[0m \u001b[38;5;28;01mfrom\u001b[39;00m \u001b[38;5;21;01mdssat\u001b[39;00m \u001b[38;5;28;01mimport\u001b[39;00m \u001b[38;5;241m*\u001b[39m\n",
            "\u001b[0;31mModuleNotFoundError\u001b[0m: No module named 'pydssat'"
          ],
          "output_type": "error"
        }
      ]
    },
    {
      "cell_type": "code",
      "source": "",
      "metadata": {},
      "execution_count": null,
      "outputs": []
    }
  ]
}