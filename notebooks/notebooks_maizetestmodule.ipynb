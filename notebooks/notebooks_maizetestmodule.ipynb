{
  "metadata": {
    "language_info": {
      "codemirror_mode": {
        "name": "python",
        "version": 3
      },
      "file_extension": ".py",
      "mimetype": "text/x-python",
      "name": "python",
      "nbconvert_exporter": "python",
      "pygments_lexer": "ipython3",
      "version": "3.8"
    },
    "kernelspec": {
      "name": "python",
      "display_name": "Python (Pyodide)",
      "language": "python"
    }
  },
  "nbformat_minor": 4,
  "nbformat": 4,
  "cells": [
    {
      "cell_type": "code",
      "source": "from DSSATTools import DSSATExperiment, DSSATResults, Soil\nfrom DSSATTools.base.sections import Weather, Management\nfrom DSSATTools.models.crops import Maize\nfrom DSSATTools.utils import create_dir_if_not_exist\nimport os\nimport numpy as npfrom DSSATTools import VERSION\nimport os\n\n#create an instance of Maize class\nmaize = Maize(DH02)\n\n#generate input file content\nsections = {}\nfor section_name, section_tag in SECTIONS.items():\n    section = getattr(maize, section_name.lower(), None)\n    if section is not None:\n        sections[section_tag] = section.write()\ninput_file_content = f'{maize.NAME} {maize.CODE} {maize.SMODEL}{VERSION}\\n'\nfor section_tag in SECTIONS.values():\n    input_file_content += sections.get(section_tag, '')\n\nwith open('maize.in', 'w') as f:\n    f.write(input_file_content)\n\n",
      "metadata": {
        "trusted": true
      },
      "execution_count": null,
      "outputs": []
    },
    {
      "cell_type": "code",
      "source": "output_dir = \"output\"\ncreate_dir_if_not_exist(output_dir)\n\nsoil = Soil(sand=30, silt=40, clay=30, OC=1.5, BD=1.3, pH=7.0, NO3=30, NH4=5, depth=150)\nweather_data = np.genfromtxt(\"weather.txt\", delimiter=\",\", skip_header=1)\nweather = Weather(latitude=40.0, longitude=-90.0, data=weather_data)\nmanagement = Management(\n    planting_date=\"05/01\", \n    planting_method=\"S\", \n    fertilizer=np.array([[100, 0, 0, 0, 0]]),\n    irrigation=1\n\ncrop = Maize(DH02)\n\n# Create DSSAT experiment object\nexp = DSSATExperiment(\n    crop=crop, \n    soil=soil, \n    weather=weather, \n    management=management,\n    experiment = DSSATExperiment(experiment_folder, 'CERES', 'Maize')\n    output_dir=output_dir\n)\n\n# set up experiment\nexperiment.set_weather(weather_file)\nexperiment.set_soil(soil_file)\nexperiment.set_management(management_file)\nexperiment.set_cultivar('Maize', 'CIMMYT-HiDAS')\nexp.write_files()\n    \n#Run DSSAT simulation",
      "metadata": {},
      "execution_count": null,
      "outputs": []
    }
  ]
}