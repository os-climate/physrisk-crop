{
  "metadata": {
    "language_info": {
      "codemirror_mode": {
        "name": "python",
        "version": 3
      },
      "file_extension": ".py",
      "mimetype": "text/x-python",
      "name": "python",
      "nbconvert_exporter": "python",
      "pygments_lexer": "ipython3",
      "version": "3.8"
    },
    "kernelspec": {
      "name": "python",
      "display_name": "Python (Pyodide)",
      "language": "python"
    }
  },
  "nbformat_minor": 4,
  "nbformat": 4,
  "cells": [
    {
      "cell_type": "code",
      "source": "# Add the function to load agricultural portfolio data from a CSV file\ndef load_agricultural_portfolio(file_path):\n    return pd.read_csv(file_path)\n\n# Load the agricultural portfolio data\nagricultural_portfolio_file = \"path/to/agricultural/portfolio/file.csv\"\nagricultural_portfolio_data = load_agricultural_portfolio(agricultural_portfolio_file)\n\n# Extract the relevant information from the agricultural portfolio data\ncrop = agricultural_portfolio_data['crop'].values[0]\nplanting_date = pd.to_datetime(agricultural_portfolio_data['planting_date']).values[0]\nharvest_date = pd.to_datetime(agricultural_portfolio_data['harvest_date']).values[0]\nfertilizer_rate = agricultural_portfolio_data['fertilizer_rate'].values[0]\n\n# Set up simulation_parameters dictionary with the extracted data\nsimulation_parameters = {\n    'crop': crop,\n    'planting_date': planting_date,\n    'harvest_date': harvest_date,\n    'fertilizer_rate': fertilizer_rate,\n}\n",
      "metadata": {},
      "execution_count": null,
      "outputs": []
    }
  ]
}