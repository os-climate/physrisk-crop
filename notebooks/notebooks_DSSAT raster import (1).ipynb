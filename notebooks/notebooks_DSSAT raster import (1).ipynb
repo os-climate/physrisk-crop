{
  "metadata": {
    "language_info": {
      "codemirror_mode": {
        "name": "python",
        "version": 3
      },
      "file_extension": ".py",
      "mimetype": "text/x-python",
      "name": "python",
      "nbconvert_exporter": "python",
      "pygments_lexer": "ipython3",
      "version": "3.8"
    },
    "kernelspec": {
      "name": "python",
      "display_name": "Python (Pyodide)",
      "language": "python"
    }
  },
  "nbformat_minor": 4,
  "nbformat": 4,
  "cells": [
    {
      "cell_type": "code",
      "source": "'''''\nThis code imports a raster of cropland area, roughly between mid-2000s and 2014. The original data comes from :\nhttps://data.apps.fao.org/map/catalog/srv/eng/catalog.search#/metadata/ba4526fd-cdbf-4028-a1bd-5a559c4bff38\n\nDownloaded the data from here:\nhttp://www.fao.org/land-water/land/land-governance/land-resources-planning-toolbox/category/details/en/c/1036355/\n\nDocumentation for cropland data:\nhttp://www.fao.org/uploads/media/glc-share-doc.pdf\n\nWe can easily replace this data with newly generated datasets from EarthDaily or Google based on the agricultural risk boundary mapping\n'''\nimport os\nimport sys\nmodule_path = os.path.abspath(os.path.join('..'))\nif module_path not in sys.path:\n\tsys.path.append(module_path)\n\nfrom src import utilities\nfrom src import params  # get file location and varname parameters for data import\nfrom src.plotter import Plotter\n\nimport numpy as np\nimport pandas as pd\nimport geopandas as gpd\nimport rasterio\nimport pymaize\nimport rasterio\n\n#load the params from the params.ods file into the params object\nparams.importIfNotAlready()\n\nldata=rasterio.open(params.growAreaDataLoc)\n\nprint('reading grow area')\nlArr=ldata.read(1)\nprint('done reading')\n\n# we ignore the last latitude cell\nlats = np.linspace(-90, 90 - params.latdiff, \\\n\t\t\t\t   np.floor(180 / params.latdiff).astype('int'))\nlons = np.linspace(-180, 180 - params.londiff, \\\n\t\t\t\t   np.floor(360 / params.londiff).astype('int'))\n\nlatbins=np.floor(len(lArr)/len(lats)).astype('int')\nlonbins=np.floor(len(lArr[0])/len(lons)).astype('int')\n\nlArrResized=lArr[0:latbins*len(lats),0:lonbins*len(lons)]\nsizeArray=[len(lats),len(lons)]\nlBinned= utilities.rebin(lArrResized, sizeArray)\nlBinnedReoriented=np.fliplr(np.transpose(lBinned))\n\nlats2d, lons2d = np.meshgrid(lats, lons)\n\ndata = {\"lats\": pd.Series(lats2d.ravel()),\n\t\t\"lons\": pd.Series(lons2d.ravel()),\n\t\t# average fraction crop area.\n\t\t\"fraction\": pd.Series(lBinnedReoriented.ravel())/100.0}\n\ndf = pd.DataFrame(data=data)\ngeometry = gpd.points_from_xy(df.lons, df.lats)\ngdf = gpd.GeoDataFrame(df, crs={'init':'epsg:4326'}, geometry=geometry)\n\ngrid= utilities.makeGrid(gdf)\nutilities.saveAsCSV('CropGrowFraction',grid)\n# grid.to_pickle(params.geopandasDataDir + \"CropGrowFraction.pkl\")\n\n#1e4 meters to a hectare\ngrid['cellArea']=grid.to_crs({'proj':'cea'})['geometry'].area/1e4 \n\nprint('Earth Surface Area, billions of hectares')\nprint(grid['cellArea'].sum()/1e9)\n\ngrid['growArea']=grid['cellArea']*grid['fraction']\nutilities.saveAsCSV('CropGrowHectares',grid)\n# grid.to_pickle(params.geopandasDataDir + \"CropGrowHectares.pkl\")\n\nprint('Total Crop Area, billions of hectares')\nprint(grid['growArea'].sum()/1e9)\n\nplotGrowArea=False\n\nlabel=\"Fraction Land for Crop Growing\"\ntitle=\"Crop Growing Area Fraction Between Years 2000-2014\"\nPlotter.plotMap(grid,'fraction',title,label,'CropGrowFraction',plotGrowArea)\n\nlabel=\"Land Area for Crop Growing Each Cell (Ha)\"\ntitle=\"Crop Growing Area Between Years 2000-2014\"\nPlotter.plotMap(grid,'growArea',title,label,'CropGrowFraction',plotGrowArea)\n\n# PyMaize simulation\nsim = pymaize.Simulation(\"maize\")\n\n# GeoTIFF raster file of soil moisture content\nwith rasterio.open(\"soil_moisture.tif\") as src:\n    soil_moisture = src.read(1)\n\n# Loop over the fields and run the simulation for each field\nresults = {}\nfor i, field in fields.iterrows():\n    sim.set_soil_moisture(soil_moisture[field.geometry])\n    sim.set_field_size(field.geometry.area)\n    sim.run()\n    results[field[\"name\"]] = sim.get_output(\"grain_yield\")\n    \n# Load historical climate data\nhistorical_data = pd.read_csv(input_dir + \"historical_climate_data.csv\")\n\n# Load CMIP6 climate data\ncmip6_data = pd.read_csv(input_dir + \"cmip6_climate_data.csv\")\n\n# Load crop model parameters\ncrop_parameters = pd.read_csv(input_dir + \"crop_parameters.csv\")\n\n# Set up DSSAT model\nmodel = DSSAT(\"Maize\")\n\n# Calibrate model using historical climate data\nmodel.run_model(historical_data, crop_parameters)\n\n# Validate model using historical crop yields\nhistorical_yield = pd.read_csv(input_dir + \"historical_crop_yield.csv\")\nmodel.validate_model(historical_yield)\n\n# Simulate crop yields for future climate scenarios\nfuture_yields = []\nfor year in range(2021, 2051):\n    # Get climate data for current year\n    climate_data = cmip6_data[cmip6_data[\"Year\"] == year]\n    # Determine drought severity based on precipitation\n    precipitation = climate_data[\"Precipitation\"].values[0]\n    if precipitation < 500:\n        # Severe drought: reduce irrigation scheduling or soil moisture\n        irrigation = 0.5\n    elif precipitation < 750:\n        # Moderate drought: reduce irrigation scheduling or soil moisture slightly\n        irrigation = 0.75\n    else:\n        # No drought: use normal irrigation scheduling or soil moisture\n        irrigation = 1.0\n    # Adjust irrigation scheduling or soil moisture in model\n    model.set_irrigation(irrigation)\n    # Run model with current climate data\n    yield_prediction = model.predict_yield(climate_data)\n    # Append yield prediction to list of future yields\n    future_yields.append(yield_prediction)\n\n# Analyze simulation results\naverage_yield = np.mean(future_yields)\nyield_range = np.max(future_yields) - np.min(future_yields)\n\n",
      "metadata": {},
      "execution_count": null,
      "outputs": []
    }
  ]
}